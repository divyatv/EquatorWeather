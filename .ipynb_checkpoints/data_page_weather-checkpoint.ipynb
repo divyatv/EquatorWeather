{
 "cells": [
  {
   "cell_type": "markdown",
   "metadata": {},
   "source": [
    "Weather data to be converted into html using pandas"
   ]
  },
  {
   "cell_type": "code",
   "execution_count": 10,
   "metadata": {},
   "outputs": [],
   "source": [
    "import pandas as pd\n",
    "import os"
   ]
  },
  {
   "cell_type": "code",
   "execution_count": 12,
   "metadata": {},
   "outputs": [],
   "source": [
    "### Reading the data from the csv file and initializing a dataframe.\n",
    "### Rename the column of the dataframe and set the index correctly.\n",
    "\n",
    "data=pd.read_csv(\"weather_data.csv\")\n",
    "data=data.rename(columns={\"Unnamed: 0\": \"City_ID\", \"Humidity\":\"Humidity %\"})\n",
    "data.drop('City_ID', axis=1, inplace=True)\n",
    "#data.set_index('City',  inplace=True)\n",
    "\n",
    "\n",
    "\n",
    "#### HTML page rendered from to_html looks ugly ############################\n",
    "#### Hence using using a small css on the dataframe to style it.\n",
    "#The df.render() does a decent job and then saving it to a html file ##########\n",
    "\n",
    "#data.to_html('data_from.html',bold_rows=True,index=False,header=True, border=1)\n",
    "\n"
   ]
  },
  {
   "cell_type": "code",
   "execution_count": 14,
   "metadata": {},
   "outputs": [],
   "source": [
    "html = (\n",
    "    data.style   \n",
    "    .set_properties(color=\"seagreen\", align=\"right\", background=\"white\")\n",
    "    .render()\n",
    ")\n",
    "\n",
    "with open('data_from_render.html', 'w') as file:\n",
    "    file.write(html)"
   ]
  },
  {
   "cell_type": "code",
   "execution_count": null,
   "metadata": {},
   "outputs": [],
   "source": [
    "# data.style.set_properties(color=\"lawngreen\", align=\"right\", background=\"black\")\n",
    "# Tried a couple of dataframe styling options, most stackoverflow needed js and other packages."
   ]
  },
  {
   "cell_type": "code",
   "execution_count": null,
   "metadata": {},
   "outputs": [],
   "source": [
    "###################### PLease ignore this cell below ####################################\n",
    "### Tried couple of styling options anf then decided to do it a different way ###########\n",
    "\n",
    "#### # Set CSS properties for th elements in dataframe\n",
    "# th_props = [\n",
    "#   ('font-size', '16px'),\n",
    "#   ('text-align', 'left'),\n",
    "#   ('font-weight', 'bold'),\n",
    "#   ('color', '#25100C'),\n",
    "#   ('background-color', '#FCF9F9')\n",
    "  \n",
    "#   ]\n",
    "\n",
    "# # Set CSS properties for td elements in dataframe\n",
    "# td_props = [\n",
    "#   ('text-align', 'left'),  \n",
    "#   ('font-size', '13px'),\n",
    "#   ('border', '1px solid black')  \n",
    "#   ]\n",
    "\n",
    "# table_props=[\n",
    "#     ('border', '1px solid black')\n",
    "# ]\n",
    "# # Set table stylesborder: 1px solid black\n",
    "# # styles = [\n",
    "# #   dict(selector=\"th\", props=th_props),\n",
    "# #   dict(selector=\"td\", props=td_props),\n",
    "# #   dict(selector=\"table\", props=table_props)\n",
    "# #   ]\n",
    "# styles = [\n",
    "#   #dict(selector=\"table\", props=table_props)\n",
    "#   ]"
   ]
  }
 ],
 "metadata": {
  "kernelspec": {
   "display_name": "Python [conda env:pythonData] *",
   "language": "python",
   "name": "conda-env-pythonData-py"
  },
  "language_info": {
   "codemirror_mode": {
    "name": "ipython",
    "version": 3
   },
   "file_extension": ".py",
   "mimetype": "text/x-python",
   "name": "python",
   "nbconvert_exporter": "python",
   "pygments_lexer": "ipython3",
   "version": "3.7.3"
  }
 },
 "nbformat": 4,
 "nbformat_minor": 2
}
